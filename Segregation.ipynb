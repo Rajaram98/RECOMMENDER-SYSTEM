{
 "cells": [
  {
   "cell_type": "code",
   "execution_count": 1,
   "id": "773b3b77",
   "metadata": {},
   "outputs": [
    {
     "name": "stderr",
     "output_type": "stream",
     "text": [
      "100%|███████████████████████████████████████████████████████████████████████████| 11778/11778 [01:20<00:00, 145.66it/s]\n",
      "  0%|▏                                                                             | 175/80109 [00:01<14:39, 90.85it/s]"
     ]
    },
    {
     "name": "stdout",
     "output_type": "stream",
     "text": [
      "Exception :  cannot identify image file 'D:/RESEARCH FILES/My Research work/Yelp Dataset/Mapping dataset/TRAINING DATA/FOOD-Train\\\\aUDiJhcFKt0exhyj4Q23Ow.jpg'\n"
     ]
    },
    {
     "name": "stderr",
     "output_type": "stream",
     "text": [
      "  1%|█▏                                                                          | 1189/80109 [00:10<12:16, 107.20it/s]"
     ]
    },
    {
     "name": "stdout",
     "output_type": "stream",
     "text": [
      "Exception :  cannot identify image file 'D:/RESEARCH FILES/My Research work/Yelp Dataset/Mapping dataset/TRAINING DATA/FOOD-Train\\\\B7xR9CuhRpP52PoehQHVow.jpg'\n"
     ]
    },
    {
     "name": "stderr",
     "output_type": "stream",
     "text": [
      "  2%|█▋                                                                          | 1792/80109 [00:15<10:36, 123.03it/s]"
     ]
    },
    {
     "name": "stdout",
     "output_type": "stream",
     "text": [
      "Exception :  cannot identify image file 'D:/RESEARCH FILES/My Research work/Yelp Dataset/Mapping dataset/TRAINING DATA/FOOD-Train\\\\bf3ymV0YgP7B6rEoriaU2w.jpg'\n"
     ]
    },
    {
     "name": "stderr",
     "output_type": "stream",
     "text": [
      "  5%|████                                                                        | 4253/80109 [00:35<09:34, 131.95it/s]"
     ]
    },
    {
     "name": "stdout",
     "output_type": "stream",
     "text": [
      "Exception :  cannot identify image file 'D:/RESEARCH FILES/My Research work/Yelp Dataset/Mapping dataset/TRAINING DATA/FOOD-Train\\\\C6n0nKVbgLbYmxSiQ_bFsg.jpg'\n",
      "Exception :  cannot identify image file 'D:/RESEARCH FILES/My Research work/Yelp Dataset/Mapping dataset/TRAINING DATA/FOOD-Train\\\\c73YwNh1JsYR5Hz-u_bOrg.jpg'\n"
     ]
    },
    {
     "name": "stderr",
     "output_type": "stream",
     "text": [
      "  6%|████▏                                                                       | 4427/80109 [00:37<11:35, 108.84it/s]"
     ]
    },
    {
     "name": "stdout",
     "output_type": "stream",
     "text": [
      "Exception :  cannot identify image file 'D:/RESEARCH FILES/My Research work/Yelp Dataset/Mapping dataset/TRAINING DATA/FOOD-Train\\\\CA9z96gGA4y9QOes2Y9eGw.jpg'\n"
     ]
    },
    {
     "name": "stderr",
     "output_type": "stream",
     "text": [
      "  6%|████▍                                                                       | 4619/80109 [00:39<10:43, 117.36it/s]"
     ]
    },
    {
     "name": "stdout",
     "output_type": "stream",
     "text": [
      "Exception :  cannot identify image file 'D:/RESEARCH FILES/My Research work/Yelp Dataset/Mapping dataset/TRAINING DATA/FOOD-Train\\\\CBxmBYD_5CXIL_F-2PDqmA.jpg'\n"
     ]
    },
    {
     "name": "stderr",
     "output_type": "stream",
     "text": [
      "  7%|█████▌                                                                      | 5808/80109 [00:49<10:03, 123.20it/s]"
     ]
    },
    {
     "name": "stdout",
     "output_type": "stream",
     "text": [
      "Exception :  cannot identify image file 'D:/RESEARCH FILES/My Research work/Yelp Dataset/Mapping dataset/TRAINING DATA/FOOD-Train\\\\cNkUV0sInfh_Py5PP8SHtQ.jpg'\n"
     ]
    },
    {
     "name": "stderr",
     "output_type": "stream",
     "text": [
      "  8%|██████▍                                                                     | 6746/80109 [00:59<11:36, 105.40it/s]"
     ]
    },
    {
     "name": "stdout",
     "output_type": "stream",
     "text": [
      "Exception :  cannot identify image file 'D:/RESEARCH FILES/My Research work/Yelp Dataset/Mapping dataset/TRAINING DATA/FOOD-Train\\\\cwwoZcpqdu2MwdDusNyTdg.jpg'\n"
     ]
    },
    {
     "name": "stderr",
     "output_type": "stream",
     "text": [
      " 10%|███████▎                                                                    | 7734/80109 [01:08<08:32, 141.18it/s]"
     ]
    },
    {
     "name": "stdout",
     "output_type": "stream",
     "text": [
      "Exception :  cannot identify image file 'D:/RESEARCH FILES/My Research work/Yelp Dataset/Mapping dataset/TRAINING DATA/FOOD-Train\\\\DB7BlUpO4LAmC1lCN62hqg.jpg'\n"
     ]
    },
    {
     "name": "stderr",
     "output_type": "stream",
     "text": [
      " 11%|████████▎                                                                   | 8804/80109 [01:18<10:41, 111.18it/s]"
     ]
    },
    {
     "name": "stdout",
     "output_type": "stream",
     "text": [
      "Exception :  cannot identify image file 'D:/RESEARCH FILES/My Research work/Yelp Dataset/Mapping dataset/TRAINING DATA/FOOD-Train\\\\DMCTwC3UT2w5QzHOQoqBPw.jpg'\n"
     ]
    },
    {
     "name": "stderr",
     "output_type": "stream",
     "text": [
      " 13%|█████████▉                                                                 | 10598/80109 [01:34<08:50, 130.92it/s]"
     ]
    },
    {
     "name": "stdout",
     "output_type": "stream",
     "text": [
      "Exception :  cannot identify image file 'D:/RESEARCH FILES/My Research work/Yelp Dataset/Mapping dataset/TRAINING DATA/FOOD-Train\\\\E7Wpzn-1fCnVJ8_zKpecPQ.jpg'\n"
     ]
    },
    {
     "name": "stderr",
     "output_type": "stream",
     "text": [
      " 18%|█████████████▍                                                             | 14303/80109 [02:04<08:59, 121.88it/s]"
     ]
    },
    {
     "name": "stdout",
     "output_type": "stream",
     "text": [
      "Exception :  cannot identify image file 'D:/RESEARCH FILES/My Research work/Yelp Dataset/Mapping dataset/TRAINING DATA/FOOD-Train\\\\feUGw0P5byOq4U40C77tyQ.jpg'\n"
     ]
    },
    {
     "name": "stderr",
     "output_type": "stream",
     "text": [
      " 23%|████████████████▉                                                          | 18031/80109 [02:35<09:38, 107.22it/s]"
     ]
    },
    {
     "name": "stdout",
     "output_type": "stream",
     "text": [
      "Exception :  cannot identify image file 'D:/RESEARCH FILES/My Research work/Yelp Dataset/Mapping dataset/TRAINING DATA/FOOD-Train\\\\gJH0d6Sut4eZDlbV0GCByg.jpg'\n"
     ]
    },
    {
     "name": "stderr",
     "output_type": "stream",
     "text": [
      " 23%|█████████████████▍                                                         | 18634/80109 [02:40<08:00, 128.01it/s]"
     ]
    },
    {
     "name": "stdout",
     "output_type": "stream",
     "text": [
      "Exception :  cannot identify image file 'D:/RESEARCH FILES/My Research work/Yelp Dataset/Mapping dataset/TRAINING DATA/FOOD-Train\\\\GPMWGVjuCsa6fadnZsEplw.jpg'\n"
     ]
    },
    {
     "name": "stderr",
     "output_type": "stream",
     "text": [
      " 24%|██████████████████                                                         | 19316/80109 [02:46<07:50, 129.27it/s]"
     ]
    },
    {
     "name": "stdout",
     "output_type": "stream",
     "text": [
      "Exception :  cannot identify image file 'D:/RESEARCH FILES/My Research work/Yelp Dataset/Mapping dataset/TRAINING DATA/FOOD-Train\\\\GWLmPwKeBnh2b_7Kv_LQ7w.jpg'\n"
     ]
    },
    {
     "name": "stderr",
     "output_type": "stream",
     "text": [
      " 26%|███████████████████▏                                                       | 20505/80109 [02:56<07:11, 138.15it/s]"
     ]
    },
    {
     "name": "stdout",
     "output_type": "stream",
     "text": [
      "Exception :  cannot identify image file 'D:/RESEARCH FILES/My Research work/Yelp Dataset/Mapping dataset/TRAINING DATA/FOOD-Train\\\\hChXG-gGWxzGvalse3EYmw.jpg'\n",
      "Exception :  cannot identify image file 'D:/RESEARCH FILES/My Research work/Yelp Dataset/Mapping dataset/TRAINING DATA/FOOD-Train\\\\hclqCX1FWcV_TtJJoI3BpQ.jpg'\n"
     ]
    },
    {
     "name": "stderr",
     "output_type": "stream",
     "text": [
      " 26%|███████████████████▊                                                       | 21209/80109 [03:01<07:55, 123.85it/s]"
     ]
    },
    {
     "name": "stdout",
     "output_type": "stream",
     "text": [
      "Exception :  cannot identify image file 'D:/RESEARCH FILES/My Research work/Yelp Dataset/Mapping dataset/TRAINING DATA/FOOD-Train\\\\hjEfal2a1DWRDu8_AUDLNg.jpg'\n"
     ]
    },
    {
     "name": "stderr",
     "output_type": "stream",
     "text": [
      " 29%|██████████████████████                                                     | 23540/80109 [03:19<07:00, 134.55it/s]"
     ]
    },
    {
     "name": "stdout",
     "output_type": "stream",
     "text": [
      "Exception :  cannot identify image file 'D:/RESEARCH FILES/My Research work/Yelp Dataset/Mapping dataset/TRAINING DATA/FOOD-Train\\\\IB2ZjqjtS1W_DadQoPPdgg.jpg'\n"
     ]
    },
    {
     "name": "stderr",
     "output_type": "stream",
     "text": [
      " 30%|██████████████████████▍                                                    | 23931/80109 [03:22<06:35, 141.95it/s]"
     ]
    },
    {
     "name": "stdout",
     "output_type": "stream",
     "text": [
      "Exception :  cannot identify image file 'D:/RESEARCH FILES/My Research work/Yelp Dataset/Mapping dataset/TRAINING DATA/FOOD-Train\\\\IExxMfr1h0bxw54jsanyKA.jpg'\n"
     ]
    },
    {
     "name": "stderr",
     "output_type": "stream",
     "text": [
      " 31%|██████████████████████▉                                                    | 24464/80109 [03:25<07:49, 118.52it/s]"
     ]
    },
    {
     "name": "stdout",
     "output_type": "stream",
     "text": [
      "Exception :  cannot identify image file 'D:/RESEARCH FILES/My Research work/Yelp Dataset/Mapping dataset/TRAINING DATA/FOOD-Train\\\\IkGbGxI8IoOCuVsNB0VLrA.jpg'\n"
     ]
    },
    {
     "name": "stderr",
     "output_type": "stream",
     "text": [
      " 32%|███████████████████████▊                                                   | 25478/80109 [03:33<06:19, 143.88it/s]"
     ]
    },
    {
     "name": "stdout",
     "output_type": "stream",
     "text": [
      "Exception :  cannot identify image file 'D:/RESEARCH FILES/My Research work/Yelp Dataset/Mapping dataset/TRAINING DATA/FOOD-Train\\\\IUsKp87a-v9Yhx6Ftg1m5A.jpg'\n"
     ]
    },
    {
     "name": "stderr",
     "output_type": "stream",
     "text": [
      " 32%|████████████████████████                                                   | 25738/80109 [03:35<05:35, 162.13it/s]"
     ]
    },
    {
     "name": "stdout",
     "output_type": "stream",
     "text": [
      "Exception :  cannot identify image file 'D:/RESEARCH FILES/My Research work/Yelp Dataset/Mapping dataset/TRAINING DATA/FOOD-Train\\\\iX-8Xm2G7meRHUg8qhoL1A.jpg'\n"
     ]
    },
    {
     "name": "stderr",
     "output_type": "stream",
     "text": [
      " 33%|████████████████████████▋                                                  | 26328/80109 [03:39<06:43, 133.44it/s]"
     ]
    },
    {
     "name": "stdout",
     "output_type": "stream",
     "text": [
      "Exception :  cannot identify image file 'D:/RESEARCH FILES/My Research work/Yelp Dataset/Mapping dataset/TRAINING DATA/FOOD-Train\\\\j5-4lzg23yGECBa6l1fyRQ.jpg'\n"
     ]
    },
    {
     "name": "stderr",
     "output_type": "stream",
     "text": [
      " 34%|█████████████████████████▌                                                 | 27238/80109 [03:46<06:01, 146.31it/s]"
     ]
    },
    {
     "name": "stdout",
     "output_type": "stream",
     "text": [
      "Exception :  cannot identify image file 'D:/RESEARCH FILES/My Research work/Yelp Dataset/Mapping dataset/TRAINING DATA/FOOD-Train\\\\JG5s_bvRF1cSWf1fk9lTbw.jpg'\n"
     ]
    },
    {
     "name": "stderr",
     "output_type": "stream",
     "text": [
      " 34%|█████████████████████████▌                                                 | 27298/80109 [03:46<06:43, 130.96it/s]"
     ]
    },
    {
     "name": "stdout",
     "output_type": "stream",
     "text": [
      "Exception :  cannot identify image file 'D:/RESEARCH FILES/My Research work/Yelp Dataset/Mapping dataset/TRAINING DATA/FOOD-Train\\\\JGpfPj8VEvnq1B-Xqr3w-A.jpg'\n"
     ]
    },
    {
     "name": "stderr",
     "output_type": "stream",
     "text": [
      " 35%|██████████████████████████▎                                                | 28088/80109 [03:52<05:18, 163.55it/s]"
     ]
    },
    {
     "name": "stdout",
     "output_type": "stream",
     "text": [
      "Exception :  cannot identify image file 'D:/RESEARCH FILES/My Research work/Yelp Dataset/Mapping dataset/TRAINING DATA/FOOD-Train\\\\JoQ5xekjQUkj8rukJIzqgg.jpg'\n"
     ]
    },
    {
     "name": "stderr",
     "output_type": "stream",
     "text": [
      " 36%|██████████████████████████▊                                                | 28651/80109 [03:56<07:51, 109.24it/s]"
     ]
    },
    {
     "name": "stdout",
     "output_type": "stream",
     "text": [
      "Exception :  cannot identify image file 'D:/RESEARCH FILES/My Research work/Yelp Dataset/Mapping dataset/TRAINING DATA/FOOD-Train\\\\jU-dKl2Ye4L_5x602yoctQ.jpg'\n"
     ]
    },
    {
     "name": "stderr",
     "output_type": "stream",
     "text": [
      " 36%|██████████████████████████▊                                                | 28678/80109 [03:56<07:11, 119.09it/s]"
     ]
    },
    {
     "name": "stdout",
     "output_type": "stream",
     "text": [
      "Exception :  cannot identify image file 'D:/RESEARCH FILES/My Research work/Yelp Dataset/Mapping dataset/TRAINING DATA/FOOD-Train\\\\juDNZOOnkgG3QINFrulsAg.jpg'\n"
     ]
    },
    {
     "name": "stderr",
     "output_type": "stream",
     "text": [
      " 37%|███████████████████████████▍                                               | 29247/80109 [04:01<05:41, 148.91it/s]"
     ]
    },
    {
     "name": "stdout",
     "output_type": "stream",
     "text": [
      "Exception :  cannot identify image file 'D:/RESEARCH FILES/My Research work/Yelp Dataset/Mapping dataset/TRAINING DATA/FOOD-Train\\\\JZZ716oX6_MqH6L_MkWK-A.jpg'\n"
     ]
    },
    {
     "name": "stderr",
     "output_type": "stream",
     "text": [
      " 37%|███████████████████████████▊                                               | 29663/80109 [04:04<06:27, 130.34it/s]"
     ]
    },
    {
     "name": "stdout",
     "output_type": "stream",
     "text": [
      "Exception :  cannot identify image file 'D:/RESEARCH FILES/My Research work/Yelp Dataset/Mapping dataset/TRAINING DATA/FOOD-Train\\\\K6pfRNwGodm1m1gFVQlj-Q.jpg'\n"
     ]
    },
    {
     "name": "stderr",
     "output_type": "stream",
     "text": [
      " 38%|████████████████████████████▎                                              | 30198/80109 [04:08<05:44, 145.07it/s]"
     ]
    },
    {
     "name": "stdout",
     "output_type": "stream",
     "text": [
      "Exception :  cannot identify image file 'D:/RESEARCH FILES/My Research work/Yelp Dataset/Mapping dataset/TRAINING DATA/FOOD-Train\\\\ke4ohxa93GJz0KH9H2kwsQ.jpg'\n"
     ]
    },
    {
     "name": "stderr",
     "output_type": "stream",
     "text": [
      " 38%|████████████████████████████▋                                              | 30682/80109 [04:11<06:06, 135.02it/s]"
     ]
    },
    {
     "name": "stdout",
     "output_type": "stream",
     "text": [
      "Exception :  cannot identify image file 'D:/RESEARCH FILES/My Research work/Yelp Dataset/Mapping dataset/TRAINING DATA/FOOD-Train\\\\kjMBhxBXOUE7SSUQb-YQbw.jpg'\n"
     ]
    },
    {
     "name": "stderr",
     "output_type": "stream",
     "text": [
      " 41%|██████████████████████████████▍                                            | 32564/80109 [04:24<05:35, 141.53it/s]"
     ]
    },
    {
     "name": "stdout",
     "output_type": "stream",
     "text": [
      "Exception :  cannot identify image file 'D:/RESEARCH FILES/My Research work/Yelp Dataset/Mapping dataset/TRAINING DATA/FOOD-Train\\\\l2vR3PyVMF3pgIERdDEuiQ.jpg'\n"
     ]
    },
    {
     "name": "stderr",
     "output_type": "stream",
     "text": [
      " 42%|███████████████████████████████▌                                           | 33715/80109 [04:33<06:28, 119.50it/s]"
     ]
    },
    {
     "name": "stdout",
     "output_type": "stream",
     "text": [
      "Exception :  cannot identify image file 'D:/RESEARCH FILES/My Research work/Yelp Dataset/Mapping dataset/TRAINING DATA/FOOD-Train\\\\LhLfsQtYwJ5OmEzilubhXQ.jpg'\n"
     ]
    },
    {
     "name": "stderr",
     "output_type": "stream",
     "text": [
      " 43%|████████████████████████████████▌                                          | 34736/80109 [04:40<05:23, 140.05it/s]"
     ]
    },
    {
     "name": "stdout",
     "output_type": "stream",
     "text": [
      "Exception :  cannot identify image file 'D:/RESEARCH FILES/My Research work/Yelp Dataset/Mapping dataset/TRAINING DATA/FOOD-Train\\\\lrfy4UVIWtj0xwboLgUreQ.jpg'\n"
     ]
    },
    {
     "name": "stderr",
     "output_type": "stream",
     "text": [
      " 44%|█████████████████████████████████                                          | 35331/80109 [04:45<04:51, 153.88it/s]"
     ]
    },
    {
     "name": "stdout",
     "output_type": "stream",
     "text": [
      "Exception :  cannot identify image file 'D:/RESEARCH FILES/My Research work/Yelp Dataset/Mapping dataset/TRAINING DATA/FOOD-Train\\\\LXT4hCf1lRyUeM4HDBaSvg.jpg'\n"
     ]
    },
    {
     "name": "stderr",
     "output_type": "stream",
     "text": [
      " 44%|█████████████████████████████████▎                                         | 35585/80109 [04:47<05:10, 143.25it/s]"
     ]
    },
    {
     "name": "stdout",
     "output_type": "stream",
     "text": [
      "Exception :  cannot identify image file 'D:/RESEARCH FILES/My Research work/Yelp Dataset/Mapping dataset/TRAINING DATA/FOOD-Train\\\\l_rMdwgrvjm2PyHyXBcBTw.jpg'\n"
     ]
    },
    {
     "name": "stderr",
     "output_type": "stream",
     "text": [
      " 45%|█████████████████████████████████▌                                         | 35822/80109 [04:48<05:29, 134.31it/s]"
     ]
    },
    {
     "name": "stdout",
     "output_type": "stream",
     "text": [
      "Exception :  cannot identify image file 'D:/RESEARCH FILES/My Research work/Yelp Dataset/Mapping dataset/TRAINING DATA/FOOD-Train\\\\m3oIKhKKCQD54y1E-dBKSw.jpg'\n"
     ]
    },
    {
     "name": "stderr",
     "output_type": "stream",
     "text": [
      " 46%|██████████████████████████████████▏                                        | 36579/80109 [04:54<05:28, 132.64it/s]"
     ]
    },
    {
     "name": "stdout",
     "output_type": "stream",
     "text": [
      "Exception :  cannot identify image file 'D:/RESEARCH FILES/My Research work/Yelp Dataset/Mapping dataset/TRAINING DATA/FOOD-Train\\\\MduVueqYTBlEkX-axrh1ug.jpg'\n"
     ]
    },
    {
     "name": "stderr",
     "output_type": "stream",
     "text": [
      " 48%|████████████████████████████████████▎                                      | 38771/80109 [05:10<04:28, 154.20it/s]"
     ]
    },
    {
     "name": "stdout",
     "output_type": "stream",
     "text": [
      "Exception :  cannot identify image file 'D:/RESEARCH FILES/My Research work/Yelp Dataset/Mapping dataset/TRAINING DATA/FOOD-Train\\\\MZj64XNUN6Og178-6XYR6g.jpg'\n"
     ]
    },
    {
     "name": "stderr",
     "output_type": "stream",
     "text": [
      " 49%|████████████████████████████████████▋                                      | 39229/80109 [05:13<05:03, 134.85it/s]"
     ]
    },
    {
     "name": "stdout",
     "output_type": "stream",
     "text": [
      "Exception :  cannot identify image file 'D:/RESEARCH FILES/My Research work/Yelp Dataset/Mapping dataset/TRAINING DATA/FOOD-Train\\\\N6hL8FQ84A2DznF2S2Lp7g.jpg'\n",
      "Exception :  cannot identify image file 'D:/RESEARCH FILES/My Research work/Yelp Dataset/Mapping dataset/TRAINING DATA/FOOD-Train\\\\n6Q9vNuxz7786ESEfautxQ.jpg'\n"
     ]
    },
    {
     "name": "stderr",
     "output_type": "stream",
     "text": [
      " 50%|█████████████████████████████████████▍                                     | 39952/80109 [05:19<04:45, 140.60it/s]"
     ]
    },
    {
     "name": "stdout",
     "output_type": "stream",
     "text": [
      "Exception :  cannot identify image file 'D:/RESEARCH FILES/My Research work/Yelp Dataset/Mapping dataset/TRAINING DATA/FOOD-Train\\\\NfayhoTudVJQsEF-XlPyjw.jpg'\n"
     ]
    },
    {
     "name": "stderr",
     "output_type": "stream",
     "text": [
      " 50%|█████████████████████████████████████▊                                     | 40424/80109 [05:22<04:23, 150.52it/s]"
     ]
    },
    {
     "name": "stdout",
     "output_type": "stream",
     "text": [
      "Exception :  cannot identify image file 'D:/RESEARCH FILES/My Research work/Yelp Dataset/Mapping dataset/TRAINING DATA/FOOD-Train\\\\NKEFWvRriK-LvagPz2QRxw.jpg'\n",
      "Exception :  cannot identify image file 'D:/RESEARCH FILES/My Research work/Yelp Dataset/Mapping dataset/TRAINING DATA/FOOD-Train\\\\nKJ7yiPc0E_DJNtNxmCrhg.jpg'\n"
     ]
    },
    {
     "name": "stderr",
     "output_type": "stream",
     "text": [
      " 53%|███████████████████████████████████████▍                                   | 42095/80109 [05:35<04:10, 151.94it/s]"
     ]
    },
    {
     "name": "stdout",
     "output_type": "stream",
     "text": [
      "Exception :  cannot identify image file 'D:/RESEARCH FILES/My Research work/Yelp Dataset/Mapping dataset/TRAINING DATA/FOOD-Train\\\\O0bVFyP58TOEix6IjERXQA.jpg'\n"
     ]
    },
    {
     "name": "stderr",
     "output_type": "stream",
     "text": [
      " 54%|████████████████████████████████████████▊                                  | 43563/80109 [05:45<04:00, 152.02it/s]"
     ]
    },
    {
     "name": "stdout",
     "output_type": "stream",
     "text": [
      "Exception :  cannot identify image file 'D:/RESEARCH FILES/My Research work/Yelp Dataset/Mapping dataset/TRAINING DATA/FOOD-Train\\\\OK6HsALzFcBAUlrroKHZGg.jpg'\n"
     ]
    },
    {
     "name": "stderr",
     "output_type": "stream",
     "text": [
      " 58%|███████████████████████████████████████████▎                               | 46234/80109 [06:05<04:08, 136.48it/s]"
     ]
    },
    {
     "name": "stdout",
     "output_type": "stream",
     "text": [
      "Exception :  cannot identify image file 'D:/RESEARCH FILES/My Research work/Yelp Dataset/Mapping dataset/TRAINING DATA/FOOD-Train\\\\PFD3ykdI1WVhvZ8IX4PmLQ.jpg'\n"
     ]
    },
    {
     "name": "stderr",
     "output_type": "stream",
     "text": [
      " 58%|███████████████████████████████████████████▋                               | 46655/80109 [06:08<04:07, 135.36it/s]"
     ]
    },
    {
     "name": "stdout",
     "output_type": "stream",
     "text": [
      "Exception :  cannot identify image file 'D:/RESEARCH FILES/My Research work/Yelp Dataset/Mapping dataset/TRAINING DATA/FOOD-Train\\\\PjfJoBrEFgDrxiJy8nyatA.jpg'\n"
     ]
    },
    {
     "name": "stderr",
     "output_type": "stream",
     "text": [
      " 58%|███████████████████████████████████████████▋                               | 46713/80109 [06:08<04:07, 135.15it/s]"
     ]
    },
    {
     "name": "stdout",
     "output_type": "stream",
     "text": [
      "Exception :  cannot identify image file 'D:/RESEARCH FILES/My Research work/Yelp Dataset/Mapping dataset/TRAINING DATA/FOOD-Train\\\\Pk87_8Yndygr4LRUD_H7Hg.jpg'\n"
     ]
    },
    {
     "name": "stderr",
     "output_type": "stream",
     "text": [
      " 60%|████████████████████████████████████████████▊                              | 47900/80109 [06:17<03:42, 144.87it/s]"
     ]
    },
    {
     "name": "stdout",
     "output_type": "stream",
     "text": [
      "Exception :  cannot identify image file 'D:/RESEARCH FILES/My Research work/Yelp Dataset/Mapping dataset/TRAINING DATA/FOOD-Train\\\\pW1IPuTdLIUB61goirbXaA.jpg'\n"
     ]
    },
    {
     "name": "stderr",
     "output_type": "stream",
     "text": [
      " 62%|██████████████████████████████████████████████▍                            | 49613/80109 [06:30<03:46, 134.60it/s]"
     ]
    },
    {
     "name": "stdout",
     "output_type": "stream",
     "text": [
      "Exception :  cannot identify image file 'D:/RESEARCH FILES/My Research work/Yelp Dataset/Mapping dataset/TRAINING DATA/FOOD-Train\\\\QhATx1B1n8uf8C6siMNTfA.jpg'\n"
     ]
    },
    {
     "name": "stderr",
     "output_type": "stream",
     "text": [
      " 63%|██████████████████████████████████████████████▉                            | 50184/80109 [06:34<03:57, 126.04it/s]"
     ]
    },
    {
     "name": "stdout",
     "output_type": "stream",
     "text": [
      "Exception :  cannot identify image file 'D:/RESEARCH FILES/My Research work/Yelp Dataset/Mapping dataset/TRAINING DATA/FOOD-Train\\\\qMlGILrsrzhMDxajNYiyIA.jpg'\n"
     ]
    },
    {
     "name": "stderr",
     "output_type": "stream",
     "text": [
      " 63%|███████████████████████████████████████████████▍                           | 50721/80109 [06:38<03:41, 132.79it/s]"
     ]
    },
    {
     "name": "stdout",
     "output_type": "stream",
     "text": [
      "Exception :  cannot identify image file 'D:/RESEARCH FILES/My Research work/Yelp Dataset/Mapping dataset/TRAINING DATA/FOOD-Train\\\\QRUo4vqUu3X9V4eIqBpY8A.jpg'\n"
     ]
    },
    {
     "name": "stderr",
     "output_type": "stream",
     "text": [
      " 64%|████████████████████████████████████████████████                           | 51342/80109 [06:43<03:23, 141.37it/s]"
     ]
    },
    {
     "name": "stdout",
     "output_type": "stream",
     "text": [
      "Exception :  cannot identify image file 'D:/RESEARCH FILES/My Research work/Yelp Dataset/Mapping dataset/TRAINING DATA/FOOD-Train\\\\qxSXsYMA3aWuAfigeqeOOQ.jpg'\n"
     ]
    },
    {
     "name": "stderr",
     "output_type": "stream",
     "text": [
      " 66%|█████████████████████████████████████████████████▍                         | 52816/80109 [06:53<03:29, 130.11it/s]"
     ]
    },
    {
     "name": "stdout",
     "output_type": "stream",
     "text": [
      "Exception :  cannot identify image file 'D:/RESEARCH FILES/My Research work/Yelp Dataset/Mapping dataset/TRAINING DATA/FOOD-Train\\\\RhC7TNmFvbR9GWrlrl5dsA.jpg'\n"
     ]
    },
    {
     "name": "stderr",
     "output_type": "stream",
     "text": [
      " 66%|█████████████████████████████████████████████████▌                         | 52923/80109 [06:54<03:21, 134.70it/s]"
     ]
    },
    {
     "name": "stdout",
     "output_type": "stream",
     "text": [
      "Exception :  cannot identify image file 'D:/RESEARCH FILES/My Research work/Yelp Dataset/Mapping dataset/TRAINING DATA/FOOD-Train\\\\RIeulJUzgemFugkkgg4qgA.jpg'\n",
      "Exception :  cannot identify image file 'D:/RESEARCH FILES/My Research work/Yelp Dataset/Mapping dataset/TRAINING DATA/FOOD-Train\\\\rIhUkEmP-j4NcQVW3YuPYQ.jpg'\n"
     ]
    },
    {
     "name": "stderr",
     "output_type": "stream",
     "text": [
      " 66%|█████████████████████████████████████████████████▊                         | 53226/80109 [06:56<03:03, 146.27it/s]"
     ]
    },
    {
     "name": "stdout",
     "output_type": "stream",
     "text": [
      "Exception :  cannot identify image file 'D:/RESEARCH FILES/My Research work/Yelp Dataset/Mapping dataset/TRAINING DATA/FOOD-Train\\\\rLafN9k3_AF5lZU0cs3LZg.jpg'\n"
     ]
    },
    {
     "name": "stderr",
     "output_type": "stream",
     "text": [
      " 67%|█████████████████████████████████████████████████▉                         | 53277/80109 [06:57<02:57, 151.37it/s]"
     ]
    },
    {
     "name": "stdout",
     "output_type": "stream",
     "text": [
      "Exception :  cannot identify image file 'D:/RESEARCH FILES/My Research work/Yelp Dataset/Mapping dataset/TRAINING DATA/FOOD-Train\\\\RLtBKD2rlfTaELWejmLBCA.jpg'\n"
     ]
    },
    {
     "name": "stderr",
     "output_type": "stream",
     "text": [
      " 67%|██████████████████████████████████████████████████▍                        | 53858/80109 [07:01<03:20, 130.72it/s]"
     ]
    },
    {
     "name": "stdout",
     "output_type": "stream",
     "text": [
      "Exception :  cannot identify image file 'D:/RESEARCH FILES/My Research work/Yelp Dataset/Mapping dataset/TRAINING DATA/FOOD-Train\\\\rrfwGSwt3eHxxypfu5PGTA.jpg'\n"
     ]
    },
    {
     "name": "stderr",
     "output_type": "stream",
     "text": [
      " 74%|███████████████████████████████████████████████████████▊                   | 59583/80109 [07:43<02:33, 134.06it/s]"
     ]
    },
    {
     "name": "stdout",
     "output_type": "stream",
     "text": [
      "Exception :  cannot identify image file 'D:/RESEARCH FILES/My Research work/Yelp Dataset/Mapping dataset/TRAINING DATA/FOOD-Train\\\\tlp6LCLDsvL1GjO_kW_plQ.jpg'\n"
     ]
    },
    {
     "name": "stderr",
     "output_type": "stream",
     "text": [
      " 75%|███████████████████████████████████████████████████████▉                   | 59745/80109 [07:44<02:51, 118.85it/s]"
     ]
    },
    {
     "name": "stdout",
     "output_type": "stream",
     "text": [
      "Exception :  cannot identify image file 'D:/RESEARCH FILES/My Research work/Yelp Dataset/Mapping dataset/TRAINING DATA/FOOD-Train\\\\TN4-gAea6ejAdZ-NzYXxng.jpg'\n"
     ]
    },
    {
     "name": "stderr",
     "output_type": "stream",
     "text": [
      " 75%|████████████████████████████████████████████████████████▍                  | 60282/80109 [07:48<02:20, 141.12it/s]"
     ]
    },
    {
     "name": "stdout",
     "output_type": "stream",
     "text": [
      "Exception :  cannot identify image file 'D:/RESEARCH FILES/My Research work/Yelp Dataset/Mapping dataset/TRAINING DATA/FOOD-Train\\\\tSHz7RzlgceAItRejZ396A.jpg'\n"
     ]
    },
    {
     "name": "stderr",
     "output_type": "stream",
     "text": [
      " 76%|████████████████████████████████████████████████████████▋                  | 60526/80109 [07:50<02:06, 154.58it/s]"
     ]
    },
    {
     "name": "stdout",
     "output_type": "stream",
     "text": [
      "Exception :  cannot identify image file 'D:/RESEARCH FILES/My Research work/Yelp Dataset/Mapping dataset/TRAINING DATA/FOOD-Train\\\\TvD36_DdnyCJuXV1SSt3_Q.jpg'\n"
     ]
    },
    {
     "name": "stderr",
     "output_type": "stream",
     "text": [
      " 76%|█████████████████████████████████████████████████████████▏                 | 61032/80109 [07:54<02:22, 134.05it/s]"
     ]
    },
    {
     "name": "stdout",
     "output_type": "stream",
     "text": [
      "Exception :  cannot identify image file 'D:/RESEARCH FILES/My Research work/Yelp Dataset/Mapping dataset/TRAINING DATA/FOOD-Train\\\\t_sV6mI4oNvbvohhZAyeuA.jpg'\n"
     ]
    },
    {
     "name": "stderr",
     "output_type": "stream",
     "text": [
      " 78%|██████████████████████████████████████████████████████████▎                | 62228/80109 [08:03<02:07, 140.18it/s]"
     ]
    },
    {
     "name": "stdout",
     "output_type": "stream",
     "text": [
      "Exception :  cannot identify image file 'D:/RESEARCH FILES/My Research work/Yelp Dataset/Mapping dataset/TRAINING DATA/FOOD-Train\\\\UG2JuFFa_WxhPEtMOtq-JQ.jpg'\n"
     ]
    },
    {
     "name": "stderr",
     "output_type": "stream",
     "text": [
      " 83%|██████████████████████████████████████████████████████████████▎            | 66582/80109 [08:34<01:28, 152.02it/s]"
     ]
    },
    {
     "name": "stdout",
     "output_type": "stream",
     "text": [
      "Exception :  cannot identify image file 'D:/RESEARCH FILES/My Research work/Yelp Dataset/Mapping dataset/TRAINING DATA/FOOD-Train\\\\VSekUmmsGZcX7KaPe_hXyw.jpg'\n"
     ]
    },
    {
     "name": "stderr",
     "output_type": "stream",
     "text": [
      " 85%|███████████████████████████████████████████████████████████████▍           | 67736/80109 [08:43<01:33, 132.12it/s]"
     ]
    },
    {
     "name": "stdout",
     "output_type": "stream",
     "text": [
      "Exception :  cannot identify image file 'D:/RESEARCH FILES/My Research work/Yelp Dataset/Mapping dataset/TRAINING DATA/FOOD-Train\\\\w5ABnSadHC8z1lthMQBaBQ.jpg'\n"
     ]
    },
    {
     "name": "stderr",
     "output_type": "stream",
     "text": [
      " 85%|███████████████████████████████████████████████████████████████▌           | 67936/80109 [08:44<01:27, 139.88it/s]"
     ]
    },
    {
     "name": "stdout",
     "output_type": "stream",
     "text": [
      "Exception :  cannot identify image file 'D:/RESEARCH FILES/My Research work/Yelp Dataset/Mapping dataset/TRAINING DATA/FOOD-Train\\\\W94rrCn0O5K1lkfD26m4tw.jpg'\n"
     ]
    },
    {
     "name": "stderr",
     "output_type": "stream",
     "text": [
      " 86%|████████████████████████████████████████████████████████████████▏          | 68605/80109 [08:49<01:15, 153.34it/s]"
     ]
    },
    {
     "name": "stdout",
     "output_type": "stream",
     "text": [
      "Exception :  cannot identify image file 'D:/RESEARCH FILES/My Research work/Yelp Dataset/Mapping dataset/TRAINING DATA/FOOD-Train\\\\WGmGujPl5BmR_fCUZnoe9w.jpg'\n"
     ]
    },
    {
     "name": "stderr",
     "output_type": "stream",
     "text": [
      " 92%|████████████████████████████████████████████████████████████████████▋      | 73358/80109 [09:24<00:52, 129.20it/s]"
     ]
    },
    {
     "name": "stdout",
     "output_type": "stream",
     "text": [
      "Exception :  cannot identify image file 'D:/RESEARCH FILES/My Research work/Yelp Dataset/Mapping dataset/TRAINING DATA/FOOD-Train\\\\XX6ujA9CcB5s9y9wCy67-Q.jpg'\n"
     ]
    },
    {
     "name": "stderr",
     "output_type": "stream",
     "text": [
      " 92%|█████████████████████████████████████████████████████████████████████▏     | 73899/80109 [09:29<00:46, 134.68it/s]"
     ]
    },
    {
     "name": "stdout",
     "output_type": "stream",
     "text": [
      "Exception :  cannot identify image file 'D:/RESEARCH FILES/My Research work/Yelp Dataset/Mapping dataset/TRAINING DATA/FOOD-Train\\\\Y3lA41pnMkQNGfyREkf6SA.jpg'\n"
     ]
    },
    {
     "name": "stderr",
     "output_type": "stream",
     "text": [
      " 93%|█████████████████████████████████████████████████████████████████████▊     | 74560/80109 [09:33<00:40, 136.08it/s]"
     ]
    },
    {
     "name": "stdout",
     "output_type": "stream",
     "text": [
      "Exception :  cannot identify image file 'D:/RESEARCH FILES/My Research work/Yelp Dataset/Mapping dataset/TRAINING DATA/FOOD-Train\\\\ydm3g1wUWSxJnMPgHk2JhQ.jpg'\n"
     ]
    },
    {
     "name": "stderr",
     "output_type": "stream",
     "text": [
      " 93%|██████████████████████████████████████████████████████████████████████     | 74769/80109 [09:35<00:39, 134.97it/s]"
     ]
    },
    {
     "name": "stdout",
     "output_type": "stream",
     "text": [
      "Exception :  cannot identify image file 'D:/RESEARCH FILES/My Research work/Yelp Dataset/Mapping dataset/TRAINING DATA/FOOD-Train\\\\yFjqHyOaNFwzIWTV8EE9hg.jpg'\n"
     ]
    },
    {
     "name": "stderr",
     "output_type": "stream",
     "text": [
      " 94%|██████████████████████████████████████████████████████████████████████▏    | 75023/80109 [09:37<00:36, 139.49it/s]"
     ]
    },
    {
     "name": "stdout",
     "output_type": "stream",
     "text": [
      "Exception :  cannot identify image file 'D:/RESEARCH FILES/My Research work/Yelp Dataset/Mapping dataset/TRAINING DATA/FOOD-Train\\\\yhztPWh5IhaePpUQJNW-dQ.jpg'\n"
     ]
    },
    {
     "name": "stderr",
     "output_type": "stream",
     "text": [
      " 95%|███████████████████████████████████████████████████████████████████████▎   | 76175/80109 [09:46<00:32, 119.50it/s]"
     ]
    },
    {
     "name": "stdout",
     "output_type": "stream",
     "text": [
      "Exception :  cannot identify image file 'D:/RESEARCH FILES/My Research work/Yelp Dataset/Mapping dataset/TRAINING DATA/FOOD-Train\\\\ytJ4lihJrvyzMMRG-WwDNw.jpg'\n"
     ]
    },
    {
     "name": "stderr",
     "output_type": "stream",
     "text": [
      " 95%|███████████████████████████████████████████████████████████████████████▌   | 76447/80109 [09:48<00:28, 128.42it/s]"
     ]
    },
    {
     "name": "stdout",
     "output_type": "stream",
     "text": [
      "Exception :  cannot identify image file 'D:/RESEARCH FILES/My Research work/Yelp Dataset/Mapping dataset/TRAINING DATA/FOOD-Train\\\\YW1WMOkVbdFBrixDnKgoqA.jpg'\n"
     ]
    },
    {
     "name": "stderr",
     "output_type": "stream",
     "text": [
      " 99%|██████████████████████████████████████████████████████████████████████████▍| 79454/80109 [10:10<00:04, 135.79it/s]"
     ]
    },
    {
     "name": "stdout",
     "output_type": "stream",
     "text": [
      "Exception :  cannot identify image file 'D:/RESEARCH FILES/My Research work/Yelp Dataset/Mapping dataset/TRAINING DATA/FOOD-Train\\\\zTzdu2QqLozHpW_qYWF84w.jpg'\n"
     ]
    },
    {
     "name": "stderr",
     "output_type": "stream",
     "text": [
      "100%|███████████████████████████████████████████████████████████████████████████| 80109/80109 [10:15<00:00, 130.20it/s]\n",
      " 93%|█████████████████████████████████████████████████████████████████████▊     | 39769/42761 [05:14<00:20, 143.55it/s]"
     ]
    },
    {
     "name": "stdout",
     "output_type": "stream",
     "text": [
      "Exception :  cannot identify image file 'D:/RESEARCH FILES/My Research work/Yelp Dataset/Mapping dataset/TRAINING DATA/INSIDE-Train\\\\yAf6R6OSgPo8-mmdDh8qIw.jpg'\n"
     ]
    },
    {
     "name": "stderr",
     "output_type": "stream",
     "text": [
      "100%|███████████████████████████████████████████████████████████████████████████| 42761/42761 [05:35<00:00, 127.29it/s]\n",
      "100%|█████████████████████████████████████████████████████████████████████████████| 1292/1292 [00:08<00:00, 145.13it/s]\n",
      "100%|███████████████████████████████████████████████████████████████████████████| 14121/14121 [01:47<00:00, 131.95it/s]\n"
     ]
    }
   ],
   "source": [
    "import os\n",
    "from PIL import Image\n",
    "from tqdm import tqdm\n",
    "folder_path = \"D:/RESEARCH FILES/My Research work/Yelp Dataset/Mapping dataset/TRAINING DATA/\"\n",
    "extensions = ['jpg']\n",
    "for fldr in os.listdir(folder_path):\n",
    "    sub_folder_path = os.path.join(folder_path, fldr)\n",
    "    for filee in tqdm(os.listdir(sub_folder_path)):\n",
    "        file_path = os.path.join(sub_folder_path, filee)\n",
    "        #print('** Path: {}  **'.format(file_path), end=\"\\r\", flush=True)\n",
    "        try:\n",
    "            im = Image.open(file_path)\n",
    "            rgb_im = im.convert('RGB')\n",
    "        except Exception as e:\n",
    "            print(\"Exception : \" , e )\n",
    "            os.remove(file_path)\n",
    "        #if filee.split('.')[1] not in extensions:\n",
    "            #extensions.append(filee.split('.')[1])"
   ]
  },
  {
   "cell_type": "code",
   "execution_count": 2,
   "id": "eb5ff27d",
   "metadata": {},
   "outputs": [
    {
     "name": "stderr",
     "output_type": "stream",
     "text": [
      "100%|███████████████████████████████████████████████████████████████████████████| 11778/11778 [01:15<00:00, 156.39it/s]\n",
      "100%|███████████████████████████████████████████████████████████████████████████| 80028/80028 [09:51<00:00, 135.19it/s]\n",
      "100%|███████████████████████████████████████████████████████████████████████████| 42760/42760 [05:13<00:00, 136.40it/s]\n",
      "100%|█████████████████████████████████████████████████████████████████████████████| 1292/1292 [00:09<00:00, 143.21it/s]\n",
      "100%|███████████████████████████████████████████████████████████████████████████| 14121/14121 [01:46<00:00, 132.58it/s]\n"
     ]
    }
   ],
   "source": [
    "import os\n",
    "from PIL import Image\n",
    "from tqdm import tqdm\n",
    "folder_path = \"D:/RESEARCH FILES/My Research work/Yelp Dataset/Mapping dataset/TRAINING DATA/\"\n",
    "extensions = ['jpg']\n",
    "for fldr in os.listdir(folder_path):\n",
    "    sub_folder_path = os.path.join(folder_path, fldr)\n",
    "    for filee in tqdm(os.listdir(sub_folder_path)):\n",
    "        file_path = os.path.join(sub_folder_path, filee)\n",
    "        #print('** Path: {}  **'.format(file_path), end=\"\\r\", flush=True)\n",
    "        try:\n",
    "            im = Image.open(file_path)\n",
    "            rgb_im = im.convert('RGB')\n",
    "        except Exception as e:\n",
    "            print(\"Exception : \" , e )\n",
    "            os.remove(file_path)\n",
    "        #if filee.split('.')[1] not in extensions:\n",
    "            #extensions.append(filee.split('.')[1])"
   ]
  },
  {
   "cell_type": "code",
   "execution_count": 3,
   "id": "8f9da481",
   "metadata": {
    "scrolled": true
   },
   "outputs": [
    {
     "name": "stderr",
     "output_type": "stream",
     "text": [
      "100%|█████████████████████████████████████████████████████████████████████████████| 2945/2945 [00:10<00:00, 268.07it/s]\n",
      "  4%|███                                                                          | 804/20028 [00:03<01:24, 226.98it/s]"
     ]
    },
    {
     "name": "stdout",
     "output_type": "stream",
     "text": [
      "Exception :  cannot identify image file 'D:/RESEARCH FILES/My Research work/Yelp Dataset/Mapping dataset/TESTING DATA/FOOD-TEST\\\\0fac-NlXqfBO2pWRkmM9aw.jpg'\n"
     ]
    },
    {
     "name": "stderr",
     "output_type": "stream",
     "text": [
      "  8%|█████▉                                                                      | 1549/20028 [00:06<01:27, 210.83it/s]"
     ]
    },
    {
     "name": "stdout",
     "output_type": "stream",
     "text": [
      "Exception :  cannot identify image file 'D:/RESEARCH FILES/My Research work/Yelp Dataset/Mapping dataset/TESTING DATA/FOOD-TEST\\\\0TpeNZPs3Gu8s30KVXudcg.jpg'\n"
     ]
    },
    {
     "name": "stderr",
     "output_type": "stream",
     "text": [
      " 14%|██████████▊                                                                 | 2843/20028 [00:12<01:09, 246.34it/s]"
     ]
    },
    {
     "name": "stdout",
     "output_type": "stream",
     "text": [
      "Exception :  cannot identify image file 'D:/RESEARCH FILES/My Research work/Yelp Dataset/Mapping dataset/TESTING DATA/FOOD-TEST\\\\1MOGQBWogR8oJr1WgERi9g.jpg'\n"
     ]
    },
    {
     "name": "stderr",
     "output_type": "stream",
     "text": [
      " 16%|████████████▌                                                               | 3303/20028 [00:14<01:04, 260.67it/s]"
     ]
    },
    {
     "name": "stdout",
     "output_type": "stream",
     "text": [
      "Exception :  cannot identify image file 'D:/RESEARCH FILES/My Research work/Yelp Dataset/Mapping dataset/TESTING DATA/FOOD-TEST\\\\1wd_eyhMrTqUmicDmn4_Kw.jpg'\n"
     ]
    },
    {
     "name": "stderr",
     "output_type": "stream",
     "text": [
      " 23%|█████████████████▊                                                          | 4704/20028 [00:20<01:07, 228.56it/s]"
     ]
    },
    {
     "name": "stdout",
     "output_type": "stream",
     "text": [
      "Exception :  cannot identify image file 'D:/RESEARCH FILES/My Research work/Yelp Dataset/Mapping dataset/TESTING DATA/FOOD-TEST\\\\2S78q98b_VpBD7vkrDE5-A.jpg'\n"
     ]
    },
    {
     "name": "stderr",
     "output_type": "stream",
     "text": [
      " 34%|█████████████████████████▌                                                  | 6736/20028 [00:28<00:56, 235.88it/s]"
     ]
    },
    {
     "name": "stdout",
     "output_type": "stream",
     "text": [
      "Exception :  cannot identify image file 'D:/RESEARCH FILES/My Research work/Yelp Dataset/Mapping dataset/TESTING DATA/FOOD-TEST\\\\43fHlHSYQ_79OBJW1aVUxA.jpg'\n"
     ]
    },
    {
     "name": "stderr",
     "output_type": "stream",
     "text": [
      " 47%|███████████████████████████████████▎                                        | 9315/20028 [00:39<00:43, 243.76it/s]"
     ]
    },
    {
     "name": "stdout",
     "output_type": "stream",
     "text": [
      "Exception :  cannot identify image file 'D:/RESEARCH FILES/My Research work/Yelp Dataset/Mapping dataset/TESTING DATA/FOOD-TEST\\\\5q-sAvIPl0yNeuAbNBPM1g.jpg'\n"
     ]
    },
    {
     "name": "stderr",
     "output_type": "stream",
     "text": [
      " 50%|█████████████████████████████████████▊                                     | 10104/20028 [00:43<00:41, 237.77it/s]"
     ]
    },
    {
     "name": "stdout",
     "output_type": "stream",
     "text": [
      "Exception :  cannot identify image file 'D:/RESEARCH FILES/My Research work/Yelp Dataset/Mapping dataset/TESTING DATA/FOOD-TEST\\\\6bKuH4FOdaaPInF9NmlQHQ.jpg'\n"
     ]
    },
    {
     "name": "stderr",
     "output_type": "stream",
     "text": [
      " 57%|███████████████████████████████████████████                                | 11515/20028 [00:49<00:35, 237.00it/s]"
     ]
    },
    {
     "name": "stdout",
     "output_type": "stream",
     "text": [
      "Exception :  cannot identify image file 'D:/RESEARCH FILES/My Research work/Yelp Dataset/Mapping dataset/TESTING DATA/FOOD-TEST\\\\74upe0h6XxwgzqpdnAh_7Q.jpg'\n"
     ]
    },
    {
     "name": "stderr",
     "output_type": "stream",
     "text": [
      " 63%|███████████████████████████████████████████████▌                           | 12700/20028 [00:55<00:36, 203.46it/s]"
     ]
    },
    {
     "name": "stdout",
     "output_type": "stream",
     "text": [
      "Exception :  cannot identify image file 'D:/RESEARCH FILES/My Research work/Yelp Dataset/Mapping dataset/TESTING DATA/FOOD-TEST\\\\7xcWPjcE4mxoQ1AjvvKJZg.jpg'\n"
     ]
    },
    {
     "name": "stderr",
     "output_type": "stream",
     "text": [
      " 74%|███████████████████████████████████████████████████████▏                   | 14734/20028 [01:06<00:32, 163.25it/s]"
     ]
    },
    {
     "name": "stdout",
     "output_type": "stream",
     "text": [
      "Exception :  cannot identify image file 'D:/RESEARCH FILES/My Research work/Yelp Dataset/Mapping dataset/TESTING DATA/FOOD-TEST\\\\9BvYOtforBBP6MvvDogtmw.jpg'\n"
     ]
    },
    {
     "name": "stderr",
     "output_type": "stream",
     "text": [
      " 75%|████████████████████████████████████████████████████████▍                  | 15065/20028 [01:07<00:22, 222.36it/s]"
     ]
    },
    {
     "name": "stdout",
     "output_type": "stream",
     "text": [
      "Exception :  cannot identify image file 'D:/RESEARCH FILES/My Research work/Yelp Dataset/Mapping dataset/TESTING DATA/FOOD-TEST\\\\9jBH61ndIcsheo6FtIHArA.jpg'\n"
     ]
    },
    {
     "name": "stderr",
     "output_type": "stream",
     "text": [
      " 77%|█████████████████████████████████████████████████████████▉                 | 15466/20028 [01:09<00:20, 220.92it/s]"
     ]
    },
    {
     "name": "stdout",
     "output_type": "stream",
     "text": [
      "Exception :  cannot identify image file 'D:/RESEARCH FILES/My Research work/Yelp Dataset/Mapping dataset/TESTING DATA/FOOD-TEST\\\\9RDbbAZB0HnL4hndCWB58w.jpg'\n"
     ]
    },
    {
     "name": "stderr",
     "output_type": "stream",
     "text": [
      " 79%|███████████████████████████████████████████████████████████                | 15771/20028 [01:10<00:19, 222.19it/s]"
     ]
    },
    {
     "name": "stdout",
     "output_type": "stream",
     "text": [
      "Exception :  cannot identify image file 'D:/RESEARCH FILES/My Research work/Yelp Dataset/Mapping dataset/TESTING DATA/FOOD-TEST\\\\9X4YPM8nYFjf7hY8xUdc6Q.jpg'\n"
     ]
    },
    {
     "name": "stderr",
     "output_type": "stream",
     "text": [
      " 87%|█████████████████████████████████████████████████████████████████▍         | 17484/20028 [01:19<00:14, 173.52it/s]"
     ]
    },
    {
     "name": "stdout",
     "output_type": "stream",
     "text": [
      "Exception :  cannot identify image file 'D:/RESEARCH FILES/My Research work/Yelp Dataset/Mapping dataset/TESTING DATA/FOOD-TEST\\\\AkiGRjaMKHdJyV7bdHsQjw.jpg'\n"
     ]
    },
    {
     "name": "stderr",
     "output_type": "stream",
     "text": [
      " 88%|██████████████████████████████████████████████████████████████████▎        | 17718/20028 [01:21<00:11, 209.05it/s]"
     ]
    },
    {
     "name": "stdout",
     "output_type": "stream",
     "text": [
      "Exception :  cannot identify image file 'D:/RESEARCH FILES/My Research work/Yelp Dataset/Mapping dataset/TESTING DATA/FOOD-TEST\\\\amM65inTV6wvx0NNZN5qhg.jpg'\n",
      "Exception :  cannot identify image file 'D:/RESEARCH FILES/My Research work/Yelp Dataset/Mapping dataset/TESTING DATA/FOOD-TEST\\\\AMSyCOP3-Eb_ivNA8w1Vhw.jpg'\n"
     ]
    },
    {
     "name": "stderr",
     "output_type": "stream",
     "text": [
      " 91%|████████████████████████████████████████████████████████████████████▎      | 18229/20028 [01:23<00:08, 214.78it/s]"
     ]
    },
    {
     "name": "stdout",
     "output_type": "stream",
     "text": [
      "Exception :  cannot identify image file 'D:/RESEARCH FILES/My Research work/Yelp Dataset/Mapping dataset/TESTING DATA/FOOD-TEST\\\\ARwqGQZaT0p-XpYYjMXgQg.jpg'\n"
     ]
    },
    {
     "name": "stderr",
     "output_type": "stream",
     "text": [
      " 95%|███████████████████████████████████████████████████████████████████████    | 18971/20028 [01:27<00:05, 199.54it/s]"
     ]
    },
    {
     "name": "stdout",
     "output_type": "stream",
     "text": [
      "Exception :  cannot identify image file 'D:/RESEARCH FILES/My Research work/Yelp Dataset/Mapping dataset/TESTING DATA/FOOD-TEST\\\\_exWW0g4Svg1Eo2YWsGzbg.jpg'\n"
     ]
    },
    {
     "name": "stderr",
     "output_type": "stream",
     "text": [
      "100%|███████████████████████████████████████████████████████████████████████████| 20028/20028 [01:32<00:00, 215.91it/s]\n",
      "100%|███████████████████████████████████████████████████████████████████████████| 10690/10690 [00:52<00:00, 203.47it/s]\n",
      "100%|███████████████████████████████████████████████████████████████████████████████| 323/323 [00:01<00:00, 213.17it/s]\n",
      "100%|█████████████████████████████████████████████████████████████████████████████| 3530/3530 [00:18<00:00, 190.95it/s]\n"
     ]
    }
   ],
   "source": [
    "import os\n",
    "from PIL import Image\n",
    "from tqdm import tqdm\n",
    "folder_path = \"D:/RESEARCH FILES/My Research work/Yelp Dataset/Mapping dataset/TESTING DATA/\"\n",
    "extensions = ['jpg']\n",
    "for fldr in os.listdir(folder_path):\n",
    "    sub_folder_path = os.path.join(folder_path, fldr)\n",
    "    for filee in tqdm(os.listdir(sub_folder_path)):\n",
    "        file_path = os.path.join(sub_folder_path, filee)\n",
    "        #print('** Path: {}  **'.format(file_path), end=\"\\r\", flush=True)\n",
    "        try:\n",
    "            im = Image.open(file_path)\n",
    "            rgb_im = im.convert('RGB')\n",
    "        except Exception as e:\n",
    "            print(\"Exception : \" , e )\n",
    "            os.remove(file_path)\n",
    "        #if filee.split('.')[1] not in extensions:\n",
    "            #extensions.append(filee.split('.')[1])"
   ]
  },
  {
   "cell_type": "code",
   "execution_count": 4,
   "id": "e696e6ce",
   "metadata": {},
   "outputs": [
    {
     "name": "stderr",
     "output_type": "stream",
     "text": [
      "100%|█████████████████████████████████████████████████████████████████████████████| 2945/2945 [00:11<00:00, 261.91it/s]\n",
      "100%|███████████████████████████████████████████████████████████████████████████| 20009/20009 [01:32<00:00, 217.06it/s]\n",
      "100%|███████████████████████████████████████████████████████████████████████████| 10690/10690 [00:50<00:00, 211.18it/s]\n",
      "100%|███████████████████████████████████████████████████████████████████████████████| 323/323 [00:01<00:00, 208.26it/s]\n",
      "100%|█████████████████████████████████████████████████████████████████████████████| 3530/3530 [00:16<00:00, 211.24it/s]\n"
     ]
    }
   ],
   "source": [
    "import os\n",
    "from PIL import Image\n",
    "from tqdm import tqdm\n",
    "folder_path = \"D:/RESEARCH FILES/My Research work/Yelp Dataset/Mapping dataset/TESTING DATA/\"\n",
    "extensions = ['jpg']\n",
    "for fldr in os.listdir(folder_path):\n",
    "    sub_folder_path = os.path.join(folder_path, fldr)\n",
    "    for filee in tqdm(os.listdir(sub_folder_path)):\n",
    "        file_path = os.path.join(sub_folder_path, filee)\n",
    "        #print('** Path: {}  **'.format(file_path), end=\"\\r\", flush=True)\n",
    "        try:\n",
    "            im = Image.open(file_path)\n",
    "            rgb_im = im.convert('RGB')\n",
    "        except Exception as e:\n",
    "            print(\"Exception : \" , e )\n",
    "            os.remove(file_path)\n",
    "        #if filee.split('.')[1] not in extensions:\n",
    "            #extensions.append(filee.split('.')[1])"
   ]
  }
 ],
 "metadata": {
  "kernelspec": {
   "display_name": "Python 3 (ipykernel)",
   "language": "python",
   "name": "python3"
  },
  "language_info": {
   "codemirror_mode": {
    "name": "ipython",
    "version": 3
   },
   "file_extension": ".py",
   "mimetype": "text/x-python",
   "name": "python",
   "nbconvert_exporter": "python",
   "pygments_lexer": "ipython3",
   "version": "3.9.7"
  }
 },
 "nbformat": 4,
 "nbformat_minor": 5
}
