{
 "cells": [
  {
   "cell_type": "code",
   "execution_count": 1,
   "id": "68ae0cca",
   "metadata": {},
   "outputs": [],
   "source": [
    "import pyodbc\n",
    "import pandas as pd"
   ]
  },
  {
   "cell_type": "code",
   "execution_count": 2,
   "id": "7645608c",
   "metadata": {},
   "outputs": [
    {
     "data": {
      "text/plain": [
       "['SQL Server',\n",
       " 'MySQL ODBC 8.0 ANSI Driver',\n",
       " 'MySQL ODBC 8.0 Unicode Driver',\n",
       " 'PostgreSQL ANSI(x64)',\n",
       " 'PostgreSQL Unicode(x64)',\n",
       " 'ODBC Driver 17 for SQL Server',\n",
       " 'Microsoft Access Driver (*.mdb, *.accdb)',\n",
       " 'Microsoft Excel Driver (*.xls, *.xlsx, *.xlsm, *.xlsb)',\n",
       " 'Microsoft Access Text Driver (*.txt, *.csv)']"
      ]
     },
     "execution_count": 2,
     "metadata": {},
     "output_type": "execute_result"
    }
   ],
   "source": [
    "pyodbc.drivers()"
   ]
  },
  {
   "cell_type": "code",
   "execution_count": 10,
   "id": "8db6f893",
   "metadata": {},
   "outputs": [],
   "source": [
    "import mysql.connector\n",
    "\n",
    "conn = mysql.connector.connect(host=\"localhost\", user=\"root\", passwd=\"admin\",database=\"yelprawdata\")\n",
    "\n",
    "cur = conn.cursor()\n",
    "\n",
    "cur.execute(\"create table friends(user_id varchar(25), friends varchar(25))\")\n",
    "conn.close()"
   ]
  },
  {
   "cell_type": "code",
   "execution_count": 4,
   "id": "a1b07734",
   "metadata": {},
   "outputs": [
    {
     "data": {
      "text/plain": [
       "\"\\nconn = pyodbc.connect(\\n    Trusted_Connection = 'Yes',\\n    Driver = '{ODBC Driver 17 for SQL Server}',\\n    Server = 'Local_instance_MySQL80',\\n    Database = 'yelprawdata')\\n\\ncursor = conn.cursor()\\n\""
      ]
     },
     "execution_count": 4,
     "metadata": {},
     "output_type": "execute_result"
    }
   ],
   "source": [
    "'''\n",
    "conn = pyodbc.connect(\n",
    "    Trusted_Connection = 'Yes',\n",
    "    Driver = '{ODBC Driver 17 for SQL Server}',\n",
    "    Server = 'Local_instance_MySQL80',\n",
    "    Database = 'yelprawdata')\n",
    "\n",
    "cursor = conn.cursor()\n",
    "'''"
   ]
  },
  {
   "cell_type": "code",
   "execution_count": 4,
   "id": "e45bded7",
   "metadata": {},
   "outputs": [],
   "source": [
    "df = pd.read_csv(\"D:\\RESEARCH FILES\\My Research work\\Yelp Dataset\\yelp_friends.csv\")"
   ]
  },
  {
   "cell_type": "code",
   "execution_count": 5,
   "id": "9cbd5e84",
   "metadata": {},
   "outputs": [
    {
     "data": {
      "text/html": [
       "<div>\n",
       "<style scoped>\n",
       "    .dataframe tbody tr th:only-of-type {\n",
       "        vertical-align: middle;\n",
       "    }\n",
       "\n",
       "    .dataframe tbody tr th {\n",
       "        vertical-align: top;\n",
       "    }\n",
       "\n",
       "    .dataframe thead th {\n",
       "        text-align: right;\n",
       "    }\n",
       "</style>\n",
       "<table border=\"1\" class=\"dataframe\">\n",
       "  <thead>\n",
       "    <tr style=\"text-align: right;\">\n",
       "      <th></th>\n",
       "      <th>user_id</th>\n",
       "      <th>friends</th>\n",
       "    </tr>\n",
       "  </thead>\n",
       "  <tbody>\n",
       "    <tr>\n",
       "      <th>0</th>\n",
       "      <td>qVc8ODYU5SZjKXVBgXdI7w</td>\n",
       "      <td>NSCy54eWehBJyZdG2iE84w, pe42u7DcCH2QmI81NX-8qA...</td>\n",
       "    </tr>\n",
       "    <tr>\n",
       "      <th>1</th>\n",
       "      <td>j14WgRoU_-2ZE1aw1dXrJg</td>\n",
       "      <td>ueRPE0CX75ePGMqOFVj6IQ, 52oH4DrRvzzl8wh5UXyU0A...</td>\n",
       "    </tr>\n",
       "    <tr>\n",
       "      <th>2</th>\n",
       "      <td>2WnXYQFK0hXEoTxPtV2zvg</td>\n",
       "      <td>LuO3Bn4f3rlhyHIaNfTlnA, j9B4XdHUhDfTKVecyWQgyA...</td>\n",
       "    </tr>\n",
       "    <tr>\n",
       "      <th>3</th>\n",
       "      <td>SZDeASXq7o05mMNLshsdIA</td>\n",
       "      <td>enx1vVPnfdNUdPho6PH_wg, 4wOcvMLtU6a9Lslggq74Vg...</td>\n",
       "    </tr>\n",
       "    <tr>\n",
       "      <th>4</th>\n",
       "      <td>hA5lMy-EnncsH4JoR-hFGQ</td>\n",
       "      <td>PBK4q9KEEBHhFvSXCUirIw, 3FWPpM7KU1gXeOM_ZbYMbA...</td>\n",
       "    </tr>\n",
       "  </tbody>\n",
       "</table>\n",
       "</div>"
      ],
      "text/plain": [
       "                  user_id                                            friends\n",
       "0  qVc8ODYU5SZjKXVBgXdI7w  NSCy54eWehBJyZdG2iE84w, pe42u7DcCH2QmI81NX-8qA...\n",
       "1  j14WgRoU_-2ZE1aw1dXrJg  ueRPE0CX75ePGMqOFVj6IQ, 52oH4DrRvzzl8wh5UXyU0A...\n",
       "2  2WnXYQFK0hXEoTxPtV2zvg  LuO3Bn4f3rlhyHIaNfTlnA, j9B4XdHUhDfTKVecyWQgyA...\n",
       "3  SZDeASXq7o05mMNLshsdIA  enx1vVPnfdNUdPho6PH_wg, 4wOcvMLtU6a9Lslggq74Vg...\n",
       "4  hA5lMy-EnncsH4JoR-hFGQ  PBK4q9KEEBHhFvSXCUirIw, 3FWPpM7KU1gXeOM_ZbYMbA..."
      ]
     },
     "execution_count": 5,
     "metadata": {},
     "output_type": "execute_result"
    }
   ],
   "source": [
    "df.head()"
   ]
  },
  {
   "cell_type": "code",
   "execution_count": 12,
   "id": "eb7fa09d",
   "metadata": {},
   "outputs": [
    {
     "data": {
      "text/plain": [
       "'\\ncur.execute(\"create table tips(user_id varchar(25), business_id varchar(25), text longtext, date varchar(25), compliment_count varchar(25))\")\\n'"
      ]
     },
     "execution_count": 12,
     "metadata": {},
     "output_type": "execute_result"
    }
   ],
   "source": [
    "'''\n",
    "cur.execute(\"create table tips(user_id varchar(25), business_id varchar(25), text longtext, date varchar(25), compliment_count varchar(25))\")\n",
    "'''"
   ]
  },
  {
   "cell_type": "code",
   "execution_count": 6,
   "id": "2de99109",
   "metadata": {},
   "outputs": [
    {
     "data": {
      "text/plain": [
       "Index(['user_id', 'friends'], dtype='object')"
      ]
     },
     "execution_count": 6,
     "metadata": {},
     "output_type": "execute_result"
    }
   ],
   "source": [
    "df.columns"
   ]
  },
  {
   "cell_type": "code",
   "execution_count": 1,
   "id": "10d44e37",
   "metadata": {},
   "outputs": [
    {
     "data": {
      "text/plain": [
       "'\\nimport mysql.connector\\nprint(\\'s1\\')\\n\\nconn = mysql.connector.connect(host=\"localhost\", user=\"root\", passwd=\"admin\",database=\"yelprawdata\")\\nprint(\\'s2\\')\\n\\ncur = conn.cursor()\\nprint(\\'s3\\')\\n#count = 0\\nfor row in df.itertuples():\\n        cur.execute((row.user_id, row.friends))\\n        #print(count)\\n        #count += 1 \\n#print(\\'s4\\')\\nconn.commit()\\n'"
      ]
     },
     "execution_count": 1,
     "metadata": {},
     "output_type": "execute_result"
    }
   ],
   "source": [
    "import mysql.connector\n",
    "print('s1')\n",
    "\n",
    "conn = mysql.connector.connect(host=\"localhost\", user=\"root\", passwd=\"admin\",database=\"yelprawdata\")\n",
    "print('s2')\n",
    "\n",
    "cur = conn.cursor()\n",
    "print('s3')\n",
    "#count = 0\n",
    "for row in df.itertuples():\n",
    "        cur.execute((row.user_id, row.friends))\n",
    "        #print(count)\n",
    "        #count += 1 \n",
    "#print('s4')\n",
    "conn.commit()"
   ]
  }
 ],
 "metadata": {
  "kernelspec": {
   "display_name": "Python 3 (ipykernel)",
   "language": "python",
   "name": "python3"
  },
  "language_info": {
   "codemirror_mode": {
    "name": "ipython",
    "version": 3
   },
   "file_extension": ".py",
   "mimetype": "text/x-python",
   "name": "python",
   "nbconvert_exporter": "python",
   "pygments_lexer": "ipython3",
   "version": "3.9.7"
  }
 },
 "nbformat": 4,
 "nbformat_minor": 5
}
