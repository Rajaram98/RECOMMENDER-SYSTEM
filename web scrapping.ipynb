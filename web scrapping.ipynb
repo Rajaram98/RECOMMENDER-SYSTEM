{
 "cells": [
  {
   "cell_type": "code",
   "execution_count": 2,
   "id": "fb4d91e2",
   "metadata": {},
   "outputs": [
    {
     "name": "stdout",
     "output_type": "stream",
     "text": [
      " common lets rock on \n"
     ]
    }
   ],
   "source": [
    "print(\" common lets rock on \")"
   ]
  },
  {
   "cell_type": "code",
   "execution_count": 3,
   "id": "5249df81",
   "metadata": {},
   "outputs": [],
   "source": [
    "import requests\n",
    "import bs4\n",
    "from bs4 import BeautifulSoup"
   ]
  },
  {
   "cell_type": "code",
   "execution_count": 4,
   "id": "dede13ab",
   "metadata": {},
   "outputs": [],
   "source": [
    "url = 'https://economictimes.indiatimes.com/markets/stocks/news'"
   ]
  },
  {
   "cell_type": "code",
   "execution_count": 5,
   "id": "76699a13",
   "metadata": {},
   "outputs": [],
   "source": [
    "headers = {\n",
    "    'User-agent':\"Mozilla/5.0 (Windows NT 10.0; Win64; x64) AppleWebKit/537.36 (KHTML, like Gecko) Chrome/100.0.4896.127 Safari/537.36 Edg/100.0.1185.44\"\n",
    "}"
   ]
  },
  {
   "cell_type": "code",
   "execution_count": 8,
   "id": "dc3c5ba6",
   "metadata": {},
   "outputs": [],
   "source": [
    "r = requests.get(url,{'headers':headers})"
   ]
  },
  {
   "cell_type": "code",
   "execution_count": 9,
   "id": "2d2ad3b4",
   "metadata": {},
   "outputs": [],
   "source": [
    "soup = bs4.BeautifulSoup(r.text,'html.parser')"
   ]
  },
  {
   "cell_type": "code",
   "execution_count": 18,
   "id": "62c1c287",
   "metadata": {},
   "outputs": [
    {
     "data": {
      "text/plain": [
       "'Some investors tiptoe back into Treasuries, as hawkish Fed clouds outlook'"
      ]
     },
     "execution_count": 18,
     "metadata": {},
     "output_type": "execute_result"
    }
   ],
   "source": [
    "soup.find_all('div',{'class': 'eachStory'})[0].find_all('a')[-1].text"
   ]
  },
  {
   "cell_type": "code",
   "execution_count": 29,
   "id": "b9d575a1",
   "metadata": {},
   "outputs": [
    {
     "name": "stdout",
     "output_type": "stream",
     "text": [
      "1 : Some investors tiptoe back into Treasuries, as hawkish Fed clouds outlook\n",
      "Betting on upside in Treasuries has been a risky proposition this year. Interest rates, which move inversely to Treasury prices, have galloped higher in 2022 as the central bank has grown progressively more hawkish, dealing the U.S. government bond market its worst start to the year in history and gouging investors betting the selloff would abate.\n",
      "2 : Nifty bears swoop as Powell fires fresh salvo; this is how hawkish the Fed could be\n",
      "At the beginning of the current calendar year, several analysts were of the view that the Fed may hike rates by a total of around 250 basis points in 2022. That estimation has been significantly revised upward.\n",
      "3 : HCL Tech stock jumps over 3% after Q4 earnings\n",
      "The company on Thursday reported a three-fold jump in consolidated net profit for March quarter at Rs 3,593 crore as it struck an optimistic note about the \"buoyant\" market environment and \"strong momentum across verticals and service lines\" to guide for 12-14 per cent revenue growth for FY23.\n",
      "4 : Shyam Sekhar says popular market trends, themes scare him. Here's why\n",
      "The storytelling repeatedly, Sekhar said, can take money into very good companies like an Asian Paints, or a Bajaj Finance or it can take it into very cyclical companies, which may not do well.\n",
      "5 : Barbeque Nation rallies 6% after Ashish Kacholia picks stake\n",
      "Kacholia bought 2,53,004 shares of Barbeque Nation in a bulk deal transaction on Thursday, data published by NSE showed.\n",
      "6 : Sensex tanks 600 pts, Nifty below 17,200; Hindalco falls 2%, HCL Tech rises 2% post Q4 results\n",
      "Equity markets halted their two-day rally in early trade on Friday, with the Sensex tumbling nearly 667 points, reflecting weak global markets and selling in index majors HDFC Bank and TCS. Continuous foreign fund outflows also dented sentiments. The BSE benchmark Sensex was trading 666.85 points lower at 57,244.83. The Nifty also declined 196.55 points to 17,196.05.\n",
      "7 : L&T Technology shares tank 5% after Q4 results\n",
      "\"While LTTS is well-positioned to play the ERD theme and grow at premium rates, we do not find the risk-reward favourable. We value the stock at 32x (earlier 34x) FY24E EPS. Maintain REDUCE rating with a revised target price of Rs 3,908 from Rs 4,413,\" brokerage ICICI Securities said in a note.\n",
      "8 : ICICI Lombard skids 6% as Q4 net profit falls 10% YoY to Rs 313 crore\n",
      "The gross direct premium income (GDPI) of the company stood at Rs 4,666 crore in the quarter under review as compared to Rs 3,478 crore in the year-ago period, ICICI Lombard said in a statement.\n",
      "9 : Rallis India tanks 9% as Tata Chemicals arm posts Rs 14 crore loss in Q4\n",
      "Rallis India’s counter plunged to a low of Rs 255.25 as against Rs 281.10 at previous close on the BSE. The stock was last trading 6 per cent lower.\n",
      "10 : Powell's 50 bps rate hike comment brings abrupt end to 2-day rally\n",
      "In a panel discussion held by the International Monetary Fund during its spring meetings, Chair Jerome Powell suggested that “there’s something in the idea of front-loading” aggressive rate hikes as the Fed grapples with inflation that has reached a four-decade high. \n"
     ]
    }
   ],
   "source": [
    "i=0\n",
    "while i<10:\n",
    "    \n",
    "    headline = (soup.find_all('div',{'class': 'eachStory'})[i].find_all('a')[-1].text)\n",
    "    print (str(i+1)+\" : \"+headline)\n",
    "    print (soup.find_all('div',{'class': 'eachStory'})[i].find_all('p')[0].text)\n",
    "    i += 1"
   ]
  },
  {
   "cell_type": "code",
   "execution_count": 39,
   "id": "c958e7ef",
   "metadata": {},
   "outputs": [],
   "source": [
    "def getNews():\n",
    "    r = requests.get(url,{'headers':headers})\n",
    "    soup = bs4.BeautifulSoup(r.text,'html.parser')\n",
    "    soup.find_all('div',{'class': 'eachStory'})[0].find_all('a')[-1].text\n",
    "    i=0\n",
    "    length = len(soup.find_all('div',{'class': 'eachStory'}))\n",
    "    while i< length:\n",
    "        headline = (soup.find_all('div',{'class': 'eachStory'})[i].find_all('a')[-1].text)\n",
    "        print (str(i+1)+\" : \"+headline)\n",
    "        print (soup.find_all('div',{'class': 'eachStory'})[i].find_all('p')[0].text)\n",
    "        i += 1"
   ]
  },
  {
   "cell_type": "code",
   "execution_count": 38,
   "id": "7028062a",
   "metadata": {},
   "outputs": [
    {
     "name": "stdout",
     "output_type": "stream",
     "text": [
      "16\n"
     ]
    }
   ],
   "source": [
    "length = len(soup.find_all('div',{'class': 'eachStory'}))\n",
    "print (length)\n"
   ]
  },
  {
   "cell_type": "code",
   "execution_count": 40,
   "id": "bd41ec9f",
   "metadata": {},
   "outputs": [
    {
     "name": "stdout",
     "output_type": "stream",
     "text": [
      "1 : 9 things you must know before Rainbow Children's Medicare IPO opens\n",
      "The initial public offering (IPO) of Rainbow Children's Medicare will hit the primary markets in the next week. It will be the second issue hitting the primary markets, with Campus Activewear. Here are the key details that you should know about the issue:\n",
      "2 : Sanctions on Russian products would have high negative bearings on global and Indian equities: Mitul Shah\n",
      "IMF has cut its FY23 growth forecast for India by 80bps to 8.2 per cent, warning that Russia's invasion of Ukraine would hurt consumption and hence growth, by way of higher prices.\n",
      "3 : M-cap of 8 most valued firms tumble Rs 2.21 lakh cr; Infosys, HDFC Bank biggest drag\n",
      "From the top-10 pack, only Reliance Industries and Adani Green Energy emerged as the gainers. The market valuation of Infosys tumbled Rs 68,548.8 crore to Rs 6,67,062.55 crore. The market capitalisation (mcap) of HDFC Bank dived Rs 60,536.97 crore to reach Rs 7,51,801.60 crore. Bharti Airtel's valuation tanked Rs 30,127.49 crore to Rs 4,05,723.51 crore and that of Tata Consultancy Services plummeted by Rs 18,094.01 crore to Rs 13,21,594.47 crore.\n",
      "4 : Analysts bullish on Cyient after strong Q4 numbers, see more upside going ahead\n",
      "The Hyderabad-based tech solutions player reported a 50 per cent rise in the net profit to Rs 154.2 crore for the quarter ended March 31, 2022, compared to a profit of Rs 103.1 crore.\n",
      "5 : Valuation guru Aswath Damodaran decodes the math behind Elon Musk’s Twitter narrative\n",
      "\"Much as we like to complain about the ugliness and anger that we see on social media, it is exactly those forces that draw users to it, and arguing that Elon Musk will make it worse, misses the point that he symbolizes the strengths and weaknesses of the Twitter platform better than any other person walking the face of the earth,\" says Damodaran.\n",
      "6 : F&O expiry, Q4 earnings among top 8 factors that may guide markets this week\n",
      "In the upcoming week, markets will keenly watch the Q4 earnings of India Inc along with the expiry of April series derivatives. On the global front, war crises, crude oil and Covid-19 will be the major factors to watch out for.\n",
      "7 : HDFC Bank declares 1550% dividend for shareholders\n",
      "According to the company regulatory filing, the board of HDFC Bank at its meeting has recommended a dividend of Rs 15.50 per equity shares for the financial year 2021-22.  However, the recommendation is subject to the approval of the shareholders at the annual general meeting (AGM) of the company, it said.\n",
      "8 : Wall Street Week Ahead: Stakes are high as megacap companies highlight big earnings week\n",
      "Nearly 180 companies in the S&P 500, worth roughly half of the benchmark index's market value, are due to report results next week. They include the four biggest U.S. companies by market capitalization: Apple, Microsoft, Amazon and Google parent Alphabet.\n",
      "9 : Dalal Street Week Ahead: Market won’t see runaway upmove next week; select sectors to outperform\n",
      "The upsides, if any, are likely to stay capped at 17,500 levels. On the lower side, violating 17,000 would mean some incremental weakness for the markets. The levels of 17,350 and 17,535 will act as immediate resistance points for Nifty. Supports are likely to come in at 17,000 and 16,880 levels.\n",
      "10 : Richard Wyckoff's tips to study market trends for super stock selection\n",
      "Richard Demille Wyckoff was a pioneer in studying the stock market using technical analysis in the early 20th-century and is regarded as one of the five “gurus” of technical analysis, along with Dow, Gann, Elliott and Merrill.\n",
      "11 : There’s a panic alert flashing in Indian equities, this global advisory firm warns\n",
      "There is however a storm, perhaps even a gale, brewing on the horizon, global financial advisory firm Elara Capital says. “India flows have been deteriorating since last few months but we could finally see the momentum turning negative,” the firm said.\n",
      "12 : Fed dashes cold water on shock-and-awe hike of 75 basis points\n",
      "Chair Jerome Powell and other officials haven’t backed a suggestion by their St. Louis Fed colleague James Bullard to consider the first 75 basis-point hike since 1994. But their remarks -- which endorsed a 50 basis-point increase next month and at least one more such move to curb surging prices -- were still sufficiently hawkish to send U.S. stocks reeling.\n",
      "13 : ETMarkets Smart Talk: Rupen Rajguru of Julius Baer India explains why FIIs are selling India but will come back\n",
      "Rupen Rajguru, Head - Equity Investments and Strategy, Julius Baer India in a conversation with ETMarkets' Kshitij Anand talks about why FIIs are selling India, sectors he is overweight and underweight on, and why he has a contra buy on auto sector.\n",
      "14 : More pain ahead for market next week, Bank Nifty to be main drag: Sharekhan’s Ratnaparkhi\n",
      "A number of technical indicators suggest that the pain is not yet over, says Gaurav Ratnaparkhi- Head of Technical Research at Sharekhan by BNP Paribas.\n",
      "15 : 9 things you must know before Campus Footwear IPO opens\n",
      "The action in primary markets is likely to resume soon as a couple of companies including Campus Activewear is ready to float its initial stake sale on Tuesday. Here are the all key details the you show need to know:\n",
      "16 : Earnings season off to tepid start! Here’s how to navigate market now\n",
      "The kick start of the result season failed to appease market sentiments as most of the positives even on the earnings front are completely priced in the current valuations. What is being observed is that stock price reactions are magnified for every hit or miss vis-a-vis market expectations. \n"
     ]
    }
   ],
   "source": [
    "getNews()"
   ]
  }
 ],
 "metadata": {
  "kernelspec": {
   "display_name": "Python 3 (ipykernel)",
   "language": "python",
   "name": "python3"
  },
  "language_info": {
   "codemirror_mode": {
    "name": "ipython",
    "version": 3
   },
   "file_extension": ".py",
   "mimetype": "text/x-python",
   "name": "python",
   "nbconvert_exporter": "python",
   "pygments_lexer": "ipython3",
   "version": "3.9.7"
  }
 },
 "nbformat": 4,
 "nbformat_minor": 5
}
